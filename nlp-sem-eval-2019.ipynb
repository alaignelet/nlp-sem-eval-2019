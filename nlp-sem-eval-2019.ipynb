{
  "nbformat": 4,
  "nbformat_minor": 0,
  "metadata": {
    "colab": {
      "name": "CW1_NLP.ipynb",
      "version": "0.3.2",
      "provenance": [],
      "collapsed_sections": []
    },
    "kernelspec": {
      "name": "python3",
      "display_name": "Python 3"
    }
  },
  "cells": [
    {
      "cell_type": "markdown",
      "metadata": {
        "id": "85WHvVp8V4Yd",
        "colab_type": "text"
      },
      "source": [
        "# Loading the data and the packages / libraries\n"
      ]
    },
    {
      "cell_type": "code",
      "metadata": {
        "id": "tmDbAUXUTphh",
        "colab_type": "code",
        "outputId": "db740a39-9b3b-4d59-b62d-1e79fabb0e45",
        "colab": {
          "base_uri": "https://localhost:8080/",
          "height": 51
        }
      },
      "source": [
        "# Code to read csv file into Colaboratory:\n",
        "!pip install -U -q PyDrive\n",
        "from pydrive.auth import GoogleAuth\n",
        "from pydrive.drive import GoogleDrive\n",
        "from google.colab import auth\n",
        "from oauth2client.client import GoogleCredentials\n",
        "# Authenticate and create the PyDrive client.\n",
        "auth.authenticate_user()\n",
        "gauth = GoogleAuth()\n",
        "gauth.credentials = GoogleCredentials.get_application_default()\n",
        "drive = GoogleDrive(gauth)\n",
        "\n",
        "train_v1_id = '1QzIm1OrQYhbwY7dRtdkGLK2kFOwoSfgR'\n",
        "\n",
        "test_a_id = '17sLsGw5e2WyLWnGRqHWfbIM8fVoJPcdW'\n",
        "\n",
        "test_b_id = '11KtpkmEZMQj-PmtfyHLlxU3Ue9UbTJmp'\n",
        "\n",
        "test_c_id = '1_nizVEge67DbGrEv_cppl14FxU90CU1r'\n",
        "\n",
        "\n",
        "downloaded_train = drive.CreateFile({'id':train_v1_id}) \n",
        "downloaded_train.GetContentFile('offenseval-training-v1.tsv') \n",
        "\n",
        "downloaded_test_a = drive.CreateFile({'id':test_a_id}) \n",
        "downloaded_test_a.GetContentFile('testset-taska.tsv')\n",
        "\n",
        "downloaded_test_b = drive.CreateFile({'id':test_b_id}) \n",
        "downloaded_test_b.GetContentFile('testset-taskb.tsv') \n",
        "\n",
        "downloaded_test_c = drive.CreateFile({'id':test_c_id}) \n",
        "downloaded_test_c.GetContentFile('test_set_taskc.tsv') \n",
        "\n",
        "\n",
        "\n",
        "\n"
      ],
      "execution_count": 0,
      "outputs": [
        {
          "output_type": "stream",
          "text": [
            "\u001b[?25l\r\u001b[K    1% |▎                               | 10kB 19.5MB/s eta 0:00:01\r\u001b[K    2% |▋                               | 20kB 1.8MB/s eta 0:00:01\r\u001b[K    3% |█                               | 30kB 2.6MB/s eta 0:00:01\r\u001b[K    4% |█▎                              | 40kB 1.7MB/s eta 0:00:01\r\u001b[K    5% |█▋                              | 51kB 2.1MB/s eta 0:00:01\r\u001b[K    6% |██                              | 61kB 2.5MB/s eta 0:00:01\r\u001b[K    7% |██▎                             | 71kB 2.9MB/s eta 0:00:01\r\u001b[K    8% |██▋                             | 81kB 3.3MB/s eta 0:00:01\r\u001b[K    9% |███                             | 92kB 3.7MB/s eta 0:00:01\r\u001b[K    10% |███▎                            | 102kB 2.8MB/s eta 0:00:01\r\u001b[K    11% |███▋                            | 112kB 2.9MB/s eta 0:00:01\r\u001b[K    12% |████                            | 122kB 4.0MB/s eta 0:00:01\r\u001b[K    13% |████▎                           | 133kB 4.0MB/s eta 0:00:01\r\u001b[K    14% |████▋                           | 143kB 7.6MB/s eta 0:00:01\r\u001b[K    15% |█████                           | 153kB 7.7MB/s eta 0:00:01\r\u001b[K    16% |█████▎                          | 163kB 7.7MB/s eta 0:00:01\r\u001b[K    17% |█████▋                          | 174kB 7.6MB/s eta 0:00:01\r\u001b[K    18% |██████                          | 184kB 7.6MB/s eta 0:00:01\r\u001b[K    19% |██████▎                         | 194kB 7.6MB/s eta 0:00:01\r\u001b[K    20% |██████▋                         | 204kB 41.2MB/s eta 0:00:01\r\u001b[K    21% |███████                         | 215kB 8.0MB/s eta 0:00:01\r\u001b[K    22% |███████▎                        | 225kB 7.9MB/s eta 0:00:01\r\u001b[K    23% |███████▋                        | 235kB 8.0MB/s eta 0:00:01\r\u001b[K    24% |████████                        | 245kB 8.0MB/s eta 0:00:01\r\u001b[K    25% |████████▎                       | 256kB 8.0MB/s eta 0:00:01\r\u001b[K    26% |████████▋                       | 266kB 7.8MB/s eta 0:00:01\r\u001b[K    27% |█████████                       | 276kB 8.0MB/s eta 0:00:01\r\u001b[K    29% |█████████▎                      | 286kB 8.0MB/s eta 0:00:01\r\u001b[K    30% |█████████▋                      | 296kB 8.0MB/s eta 0:00:01\r\u001b[K    31% |██████████                      | 307kB 8.1MB/s eta 0:00:01\r\u001b[K    32% |██████████▎                     | 317kB 46.9MB/s eta 0:00:01\r\u001b[K    33% |██████████▋                     | 327kB 49.7MB/s eta 0:00:01\r\u001b[K    34% |███████████                     | 337kB 51.3MB/s eta 0:00:01\r\u001b[K    35% |███████████▎                    | 348kB 45.5MB/s eta 0:00:01\r\u001b[K    36% |███████████▋                    | 358kB 45.0MB/s eta 0:00:01\r\u001b[K    37% |████████████                    | 368kB 51.8MB/s eta 0:00:01\r\u001b[K    38% |████████████▎                   | 378kB 52.0MB/s eta 0:00:01\r\u001b[K    39% |████████████▋                   | 389kB 52.4MB/s eta 0:00:01\r\u001b[K    40% |█████████████                   | 399kB 4.4MB/s eta 0:00:01\r\u001b[K    41% |█████████████▎                  | 409kB 4.4MB/s eta 0:00:01\r\u001b[K    42% |█████████████▋                  | 419kB 4.4MB/s eta 0:00:01\r\u001b[K    43% |██████████████                  | 430kB 4.4MB/s eta 0:00:01\r\u001b[K    44% |██████████████▎                 | 440kB 4.4MB/s eta 0:00:01\r\u001b[K    45% |██████████████▋                 | 450kB 4.4MB/s eta 0:00:01\r\u001b[K    46% |███████████████                 | 460kB 4.4MB/s eta 0:00:01\r\u001b[K    47% |███████████████▎                | 471kB 4.4MB/s eta 0:00:01\r\u001b[K    48% |███████████████▋                | 481kB 4.4MB/s eta 0:00:01\r\u001b[K    49% |████████████████                | 491kB 4.4MB/s eta 0:00:01\r\u001b[K    50% |████████████████▎               | 501kB 44.6MB/s eta 0:00:01\r\u001b[K    51% |████████████████▋               | 512kB 44.2MB/s eta 0:00:01\r\u001b[K    52% |█████████████████               | 522kB 48.6MB/s eta 0:00:01\r\u001b[K    53% |█████████████████▎              | 532kB 49.8MB/s eta 0:00:01\r\u001b[K    54% |█████████████████▋              | 542kB 50.5MB/s eta 0:00:01\r\u001b[K    55% |██████████████████              | 552kB 55.9MB/s eta 0:00:01\r\u001b[K    57% |██████████████████▎             | 563kB 57.6MB/s eta 0:00:01\r\u001b[K    58% |██████████████████▋             | 573kB 55.4MB/s eta 0:00:01\r\u001b[K    59% |███████████████████             | 583kB 54.8MB/s eta 0:00:01\r\u001b[K    60% |███████████████████▎            | 593kB 54.2MB/s eta 0:00:01\r\u001b[K    61% |███████████████████▋            | 604kB 54.3MB/s eta 0:00:01\r\u001b[K    62% |████████████████████            | 614kB 61.1MB/s eta 0:00:01\r\u001b[K    63% |████████████████████▎           | 624kB 58.9MB/s eta 0:00:01\r\u001b[K    64% |████████████████████▋           | 634kB 58.4MB/s eta 0:00:01\r\u001b[K    65% |█████████████████████           | 645kB 57.7MB/s eta 0:00:01\r\u001b[K    66% |█████████████████████▎          | 655kB 56.8MB/s eta 0:00:01\r\u001b[K    67% |█████████████████████▋          | 665kB 43.4MB/s eta 0:00:01\r\u001b[K    68% |██████████████████████          | 675kB 44.1MB/s eta 0:00:01\r\u001b[K    69% |██████████████████████▎         | 686kB 44.6MB/s eta 0:00:01\r\u001b[K    70% |██████████████████████▋         | 696kB 45.1MB/s eta 0:00:01\r\u001b[K    71% |███████████████████████         | 706kB 45.2MB/s eta 0:00:01\r\u001b[K    72% |███████████████████████▎        | 716kB 45.6MB/s eta 0:00:01\r\u001b[K    73% |███████████████████████▋        | 727kB 46.3MB/s eta 0:00:01\r\u001b[K    74% |████████████████████████        | 737kB 46.0MB/s eta 0:00:01\r\u001b[K    75% |████████████████████████▎       | 747kB 46.3MB/s eta 0:00:01\r\u001b[K    76% |████████████████████████▋       | 757kB 45.7MB/s eta 0:00:01\r\u001b[K    77% |████████████████████████▉       | 768kB 60.1MB/s eta 0:00:01\r\u001b[K    78% |█████████████████████████▏      | 778kB 59.1MB/s eta 0:00:01\r\u001b[K    79% |█████████████████████████▌      | 788kB 15.9MB/s eta 0:00:01\r\u001b[K    80% |█████████████████████████▉      | 798kB 15.7MB/s eta 0:00:01\r\u001b[K    81% |██████████████████████████▏     | 808kB 15.6MB/s eta 0:00:01\r\u001b[K    82% |██████████████████████████▌     | 819kB 15.5MB/s eta 0:00:01\r\u001b[K    83% |██████████████████████████▉     | 829kB 15.6MB/s eta 0:00:01\r\u001b[K    85% |███████████████████████████▏    | 839kB 15.6MB/s eta 0:00:01\r\u001b[K    86% |███████████████████████████▌    | 849kB 15.6MB/s eta 0:00:01\r\u001b[K    87% |███████████████████████████▉    | 860kB 15.0MB/s eta 0:00:01\r\u001b[K    88% |████████████████████████████▏   | 870kB 15.0MB/s eta 0:00:01\r\u001b[K    89% |████████████████████████████▌   | 880kB 15.1MB/s eta 0:00:01\r\u001b[K    90% |████████████████████████████▉   | 890kB 48.3MB/s eta 0:00:01\r\u001b[K    91% |█████████████████████████████▏  | 901kB 50.6MB/s eta 0:00:01\r\u001b[K    92% |█████████████████████████████▌  | 911kB 52.2MB/s eta 0:00:01\r\u001b[K    93% |█████████████████████████████▉  | 921kB 53.3MB/s eta 0:00:01\r\u001b[K    94% |██████████████████████████████▏ | 931kB 52.7MB/s eta 0:00:01\r\u001b[K    95% |██████████████████████████████▌ | 942kB 52.5MB/s eta 0:00:01\r\u001b[K    96% |██████████████████████████████▉ | 952kB 51.8MB/s eta 0:00:01\r\u001b[K    97% |███████████████████████████████▏| 962kB 60.4MB/s eta 0:00:01\r\u001b[K    98% |███████████████████████████████▌| 972kB 61.2MB/s eta 0:00:01\r\u001b[K    99% |███████████████████████████████▉| 983kB 60.4MB/s eta 0:00:01\r\u001b[K    100% |████████████████████████████████| 993kB 20.8MB/s \n",
            "\u001b[?25h  Building wheel for PyDrive (setup.py) ... \u001b[?25ldone\n",
            "\u001b[?25h"
          ],
          "name": "stdout"
        }
      ]
    },
    {
      "cell_type": "code",
      "metadata": {
        "id": "M7KSLpoyTwIE",
        "colab_type": "code",
        "colab": {}
      },
      "source": [
        "\n",
        "# Import\n",
        "from sklearn.feature_extraction.text import CountVectorizer\n",
        "from sklearn.ensemble import RandomForestClassifier\n",
        "from sklearn.metrics import classification_report\n",
        "from sklearn.model_selection import cross_val_predict\n",
        "from sklearn.model_selection import train_test_split\n",
        "from sklearn.utils import shuffle\n",
        "from sklearn.metrics import f1_score\n",
        "\n",
        "from tqdm import tqdm\n",
        "\n",
        "from collections import Counter\n",
        "\n",
        "import matplotlib.pyplot as plt\n",
        "import pandas as pd\n",
        "import numpy as np\n",
        "import scipy\n",
        "import spacy\n",
        "import re\n",
        "import os\n",
        "\n",
        "import logging\n",
        "from gensim.models import FastText\n",
        "logging.basicConfig(format='%(asctime)s : %(levelname)s : %(message)s', level=logging.INFO)\n",
        "\n",
        "import tensorflow as tf\n",
        "import keras\n",
        "from keras.preprocessing.text import Tokenizer\n",
        "from keras.optimizers import Adam\n",
        "from keras.preprocessing.sequence import pad_sequences\n",
        "from keras import utils\n",
        "from keras.models import Model\n",
        "from keras import Sequential\n",
        "from keras.layers import Dropout, Conv1D, MaxPooling1D, LSTM,Concatenate, Dense, GlobalMaxPooling1D,GlobalAveragePooling1D, Lambda, Input, Bidirectional, GRU, concatenate, SpatialDropout1D, Reshape, merge\n",
        "from keras.layers.embeddings import Embedding\n",
        "\n",
        "\n",
        "import GPyOpt"
      ],
      "execution_count": 0,
      "outputs": []
    },
    {
      "cell_type": "code",
      "metadata": {
        "id": "7irndYzfQPjl",
        "colab_type": "code",
        "colab": {}
      },
      "source": [
        "!wget http://nlp.stanford.edu/data/glove.twitter.27B.zip\n",
        "!unzip glove.twitter.27B.zip"
      ],
      "execution_count": 0,
      "outputs": []
    },
    {
      "cell_type": "markdown",
      "metadata": {
        "id": "7Vh8R57QEpym",
        "colab_type": "text"
      },
      "source": [
        "# Dataset details"
      ]
    },
    {
      "cell_type": "code",
      "metadata": {
        "id": "IzRCYmAqcuWK",
        "colab_type": "code",
        "colab": {}
      },
      "source": [
        "# Load the unlabelled dataset\n",
        "\n",
        "test_data_a = pd.read_csv(\"testset-taska.tsv\", sep = \"\\t\", header = 0)\n",
        "test_data_b = pd.read_csv(\"testset-taskb.tsv\", sep = \"\\t\", header = 0)\n",
        "test_data_c = pd.read_csv(\"test_set_taskc.tsv\", sep = \"\\t\", header = 0)"
      ],
      "execution_count": 0,
      "outputs": []
    },
    {
      "cell_type": "code",
      "metadata": {
        "id": "zjFl6qBkEpyn",
        "colab_type": "code",
        "colab": {}
      },
      "source": [
        "# Load the labelled dataset\n",
        "\n",
        "data = pd.read_csv(\"offenseval-training-v1.tsv\", sep = \"\\t\", header = 0)"
      ],
      "execution_count": 0,
      "outputs": []
    },
    {
      "cell_type": "code",
      "metadata": {
        "id": "YbXmgyCYEpyq",
        "colab_type": "code",
        "outputId": "a97c326b-1e01-459e-8d0c-18837b2feebe",
        "colab": {
          "base_uri": "https://localhost:8080/",
          "height": 34
        }
      },
      "source": [
        "print(\"Dataset size:\", len(data))"
      ],
      "execution_count": 0,
      "outputs": [
        {
          "output_type": "stream",
          "text": [
            "Dataset size: 13240\n"
          ],
          "name": "stdout"
        }
      ]
    },
    {
      "cell_type": "code",
      "metadata": {
        "id": "Tcr1e3LqEpyv",
        "colab_type": "code",
        "outputId": "10e8f207-c985-416d-9f06-7985eb57e984",
        "colab": {
          "base_uri": "https://localhost:8080/",
          "height": 187
        }
      },
      "source": [
        "data.info()"
      ],
      "execution_count": 0,
      "outputs": [
        {
          "output_type": "stream",
          "text": [
            "<class 'pandas.core.frame.DataFrame'>\n",
            "RangeIndex: 13240 entries, 0 to 13239\n",
            "Data columns (total 5 columns):\n",
            "id           13240 non-null int64\n",
            "tweet        13240 non-null object\n",
            "subtask_a    13240 non-null object\n",
            "subtask_b    4400 non-null object\n",
            "subtask_c    3876 non-null object\n",
            "dtypes: int64(1), object(4)\n",
            "memory usage: 517.3+ KB\n"
          ],
          "name": "stdout"
        }
      ]
    },
    {
      "cell_type": "code",
      "metadata": {
        "id": "NANWbUuxEpy0",
        "colab_type": "code",
        "outputId": "33dcc9c1-677b-44f7-c72a-05c6408b9479",
        "colab": {
          "base_uri": "https://localhost:8080/",
          "height": 204
        }
      },
      "source": [
        "data.head()"
      ],
      "execution_count": 0,
      "outputs": [
        {
          "output_type": "execute_result",
          "data": {
            "text/html": [
              "<div>\n",
              "<style scoped>\n",
              "    .dataframe tbody tr th:only-of-type {\n",
              "        vertical-align: middle;\n",
              "    }\n",
              "\n",
              "    .dataframe tbody tr th {\n",
              "        vertical-align: top;\n",
              "    }\n",
              "\n",
              "    .dataframe thead th {\n",
              "        text-align: right;\n",
              "    }\n",
              "</style>\n",
              "<table border=\"1\" class=\"dataframe\">\n",
              "  <thead>\n",
              "    <tr style=\"text-align: right;\">\n",
              "      <th></th>\n",
              "      <th>id</th>\n",
              "      <th>tweet</th>\n",
              "      <th>subtask_a</th>\n",
              "      <th>subtask_b</th>\n",
              "      <th>subtask_c</th>\n",
              "    </tr>\n",
              "  </thead>\n",
              "  <tbody>\n",
              "    <tr>\n",
              "      <th>0</th>\n",
              "      <td>86426</td>\n",
              "      <td>@USER She should ask a few native Americans wh...</td>\n",
              "      <td>OFF</td>\n",
              "      <td>UNT</td>\n",
              "      <td>NaN</td>\n",
              "    </tr>\n",
              "    <tr>\n",
              "      <th>1</th>\n",
              "      <td>90194</td>\n",
              "      <td>@USER @USER Go home you’re drunk!!! @USER #MAG...</td>\n",
              "      <td>OFF</td>\n",
              "      <td>TIN</td>\n",
              "      <td>IND</td>\n",
              "    </tr>\n",
              "    <tr>\n",
              "      <th>2</th>\n",
              "      <td>16820</td>\n",
              "      <td>Amazon is investigating Chinese employees who ...</td>\n",
              "      <td>NOT</td>\n",
              "      <td>NaN</td>\n",
              "      <td>NaN</td>\n",
              "    </tr>\n",
              "    <tr>\n",
              "      <th>3</th>\n",
              "      <td>62688</td>\n",
              "      <td>@USER Someone should'veTaken\" this piece of sh...</td>\n",
              "      <td>OFF</td>\n",
              "      <td>UNT</td>\n",
              "      <td>NaN</td>\n",
              "    </tr>\n",
              "    <tr>\n",
              "      <th>4</th>\n",
              "      <td>43605</td>\n",
              "      <td>@USER @USER Obama wanted liberals &amp;amp; illega...</td>\n",
              "      <td>NOT</td>\n",
              "      <td>NaN</td>\n",
              "      <td>NaN</td>\n",
              "    </tr>\n",
              "  </tbody>\n",
              "</table>\n",
              "</div>"
            ],
            "text/plain": [
              "      id                                              tweet subtask_a  \\\n",
              "0  86426  @USER She should ask a few native Americans wh...       OFF   \n",
              "1  90194  @USER @USER Go home you’re drunk!!! @USER #MAG...       OFF   \n",
              "2  16820  Amazon is investigating Chinese employees who ...       NOT   \n",
              "3  62688  @USER Someone should'veTaken\" this piece of sh...       OFF   \n",
              "4  43605  @USER @USER Obama wanted liberals &amp; illega...       NOT   \n",
              "\n",
              "  subtask_b subtask_c  \n",
              "0       UNT       NaN  \n",
              "1       TIN       IND  \n",
              "2       NaN       NaN  \n",
              "3       UNT       NaN  \n",
              "4       NaN       NaN  "
            ]
          },
          "metadata": {
            "tags": []
          },
          "execution_count": 85
        }
      ]
    },
    {
      "cell_type": "markdown",
      "metadata": {
        "id": "rwt-IOqnEpzB",
        "colab_type": "text"
      },
      "source": [
        "# Preprocessing "
      ]
    },
    {
      "cell_type": "markdown",
      "metadata": {
        "id": "6ordEAKsEpzD",
        "colab_type": "text"
      },
      "source": [
        "## Dataset base-cleaning"
      ]
    },
    {
      "cell_type": "code",
      "metadata": {
        "id": "bQbweMRcEpzE",
        "colab_type": "code",
        "colab": {}
      },
      "source": [
        "# Load stopwords from SpaCy\n",
        "\n",
        "nlp = spacy.load(\"en\")\n",
        "spacy_stopwords = spacy.lang.en.stop_words.STOP_WORDS"
      ],
      "execution_count": 0,
      "outputs": []
    },
    {
      "cell_type": "code",
      "metadata": {
        "id": "BFtJMFsBEpzJ",
        "colab_type": "code",
        "colab": {}
      },
      "source": [
        "# Text preprocessing \n",
        "def clean_data(tweet):\n",
        "    splitted_tweet = tweet.lower().split()\n",
        "    clean_tweet = []\n",
        "    previous_word = None\n",
        "    user_count = 0\n",
        "    for word in splitted_tweet:\n",
        "        #if word not in spacy_stopwords:\n",
        "        word = re.sub(\"[#@]\",\"\",word)\n",
        "        word = re.sub(\"!\",\" !\",word)\n",
        "        word = re.sub(\"[?]\",\" ?\",word)\n",
        "        \n",
        "        if(word == \"user\"):\n",
        "          user_count += 1\n",
        "          \n",
        "        if(word == \"user\" and previous_word == \"user\"):\n",
        "          pass\n",
        "        else:\n",
        "          clean_tweet.append(word)\n",
        "          \n",
        "        previous_word = word\n",
        "          \n",
        "    return \" \".join(clean_tweet), user_count"
      ],
      "execution_count": 0,
      "outputs": []
    },
    {
      "cell_type": "code",
      "metadata": {
        "id": "g9AZLjK6EpzP",
        "colab_type": "code",
        "colab": {}
      },
      "source": [
        "#clean data and count users\n",
        "data = data.merge(data.tweet.apply(lambda x:pd.Series({'clean':clean_data(x)[0], 'user_count': clean_data(x)[1]})), left_index=True, right_index=True)"
      ],
      "execution_count": 0,
      "outputs": []
    },
    {
      "cell_type": "code",
      "metadata": {
        "id": "L6whnfOOrODf",
        "colab_type": "code",
        "colab": {}
      },
      "source": [
        "# Normalise the user count in order to have better training performance in the neural network\n",
        "max_ = data[\"user_count\"].max()\n",
        "data[\"user_count\"] = data[\"user_count\"].apply(lambda x:x/max_);"
      ],
      "execution_count": 0,
      "outputs": []
    },
    {
      "cell_type": "code",
      "metadata": {
        "id": "dcvJ7PYXEpzb",
        "colab_type": "code",
        "colab": {}
      },
      "source": [
        "data_a = data[data[\"subtask_a\"].notna()]\n",
        "data_b = data[data[\"subtask_b\"].notna()]\n",
        "data_c = data[data[\"subtask_c\"].notna()]"
      ],
      "execution_count": 0,
      "outputs": []
    },
    {
      "cell_type": "code",
      "metadata": {
        "id": "6PpV71BJEpzg",
        "colab_type": "code",
        "colab": {}
      },
      "source": [
        "X_a = data_a[[\"clean\", \"user_count\"]]\n",
        "label_a = data_a[\"subtask_a\"]\n",
        "X_b = data_b[[\"clean\", \"user_count\"]]\n",
        "label_b = data_b[\"subtask_b\"]\n",
        "X_c = data_c[[\"clean\", \"user_count\"]]\n",
        "label_c = data_c[\"subtask_c\"]"
      ],
      "execution_count": 0,
      "outputs": []
    },
    {
      "cell_type": "code",
      "metadata": {
        "id": "F5LM7iK6T55G",
        "colab_type": "code",
        "colab": {}
      },
      "source": [
        "label_to_number_a = {'OFF':0,'NOT':1}\n",
        "label_to_number_b = {'UNT':0,'TIN':1}\n",
        "label_to_number_c = {'IND':0,'OTH':1,'GRP':2}\n",
        "number_to_label_a = {v:k for k, v in label_to_number_a.items()}\n",
        "number_to_label_b = {v:k for k, v in label_to_number_b.items()}\n",
        "number_to_label_c = {v:k for k, v in label_to_number_c.items()}\n",
        "binary_labels_a = data_a.subtask_a.apply(lambda x:label_to_number_a[x])\n",
        "binary_labels_b = data_b.subtask_b.apply(lambda x:label_to_number_b[x])\n",
        "binary_labels_c = data_c.subtask_c.apply(lambda x:label_to_number_c[x])"
      ],
      "execution_count": 0,
      "outputs": []
    },
    {
      "cell_type": "code",
      "metadata": {
        "id": "sm2INbOYUhi_",
        "colab_type": "code",
        "outputId": "8b19c6d7-3e6c-4f93-9342-64c9a580ab9a",
        "colab": {
          "base_uri": "https://localhost:8080/",
          "height": 34
        }
      },
      "source": [
        "\n",
        "# Tokenisation\n",
        "tokenizer = Tokenizer()\n",
        "tokenizer.fit_on_texts(data.clean)\n",
        "sequences = tokenizer.texts_to_sequences(data.clean)\n",
        "seq = pad_sequences(sequences)\n",
        "\n",
        "max_seq = len(seq[0])\n",
        "print(\"maximum length of a sequence:\" ,max_seq)\n",
        "\n",
        "# Text to token\n",
        "def build_seq(dataset):\n",
        "  sequences = tokenizer.texts_to_sequences(dataset.clean)\n",
        "  seq = pad_sequences(sequences, maxlen=max_seq)\n",
        "  return seq\n"
      ],
      "execution_count": 0,
      "outputs": [
        {
          "output_type": "stream",
          "text": [
            "maximum length of a sequence: 63\n"
          ],
          "name": "stdout"
        }
      ]
    },
    {
      "cell_type": "code",
      "metadata": {
        "id": "LG9b5x9-Ep0B",
        "colab_type": "code",
        "colab": {}
      },
      "source": [
        "X_train_a, X_test_a, count_train_a, count_test_a, y_train_a, y_test_a = train_test_split(build_seq(X_a), X_a.user_count, binary_labels_a, test_size=0.2)\n",
        "X_train_b, X_test_b, count_train_b, count_test_b, y_train_b, y_test_b = train_test_split(build_seq(X_b), X_b.user_count, binary_labels_b, test_size=0.2)\n",
        "X_train_c, X_test_c, count_train_c, count_test_c, y_train_c, y_test_c = train_test_split(build_seq(X_c), X_c.user_count, binary_labels_c, test_size=0.2)"
      ],
      "execution_count": 0,
      "outputs": []
    },
    {
      "cell_type": "code",
      "metadata": {
        "id": "KbJtpbzoUXU-",
        "colab_type": "code",
        "outputId": "09f5eb01-ff04-4f69-f917-85eb814c0332",
        "colab": {
          "base_uri": "https://localhost:8080/",
          "height": 280
        }
      },
      "source": [
        "plt.figure(figsize = (12,4))\n",
        "plt.subplot(131)\n",
        "cat_a = Counter(y_train_a)\n",
        "plt.bar(list(cat_a.keys()), list(cat_a.values()))\n",
        "plt.xticks(range(len(cat_a)), label_to_number_a)\n",
        "plt.title(\"Distribition of labels in subtask A\");\n",
        "plt.subplot(132)\n",
        "cat_b = Counter(y_train_b)\n",
        "plt.bar(list(cat_b.keys()), list(cat_b.values()))\n",
        "plt.xticks(range(len(cat_b)), label_to_number_b)\n",
        "plt.title(\"Distribition of labels in subtask B\");\n",
        "plt.subplot(133)\n",
        "cat_c = Counter(y_train_c)\n",
        "plt.bar(list(cat_c.keys()), list(cat_c.values()))\n",
        "plt.xticks(range(len(cat_c)), label_to_number_c)\n",
        "plt.title(\"Distribition of labels in subtask C\");"
      ],
      "execution_count": 0,
      "outputs": [
        {
          "output_type": "display_data",
          "data": {
            "image/png": "[encoded data removed]",
            "text/plain": [
              "<Figure size 864x288 with 3 Axes>"
            ]
          },
          "metadata": {
            "tags": []
          }
        }
      ]
    },
    {
      "cell_type": "markdown",
      "metadata": {
        "id": "F_CvqlHSTy7L",
        "colab_type": "text"
      },
      "source": [
        "## Over / under -spampling"
      ]
    },
    {
      "cell_type": "markdown",
      "metadata": {
        "id": "7b8GfO0hbiLo",
        "colab_type": "text"
      },
      "source": [
        "The dataset is highly imbalanced, so we decide to combine oversampling and undersampling in order to have balanced dataset"
      ]
    },
    {
      "cell_type": "code",
      "metadata": {
        "id": "dmAXzTxpFxWs",
        "colab_type": "code",
        "colab": {}
      },
      "source": [
        "def same_size_data(X_train, count_train, y_train, ratio_down_over_up=0.5):\n",
        "  X_train = list(X_train)\n",
        "  count_train = list(count_train)\n",
        "  y_train = list(y_train)\n",
        "  \n",
        "  n_cat = len(Counter(y_train))\n",
        "  \n",
        "  sorted_counter = Counter(y_train).most_common()\n",
        "  max_cat = sorted_counter[0][1]\n",
        "  min_cat = sorted_counter[-1][1]\n",
        "  \n",
        "  target = min_cat + (1-ratio_down_over_up)*(max_cat - min_cat)\n",
        "  \n",
        "  for i in range(n_cat):\n",
        "    diff = int(sorted_counter[i][1] - target)\n",
        "    k = 0\n",
        "    if diff > 0:\n",
        "      rm = 0    \n",
        "      while rm <= diff:\n",
        "        if(y_train[k] == sorted_counter[i][0]):\n",
        "          X_train.pop(k)\n",
        "          y_train.pop(k)\n",
        "          count_train.pop(k)\n",
        "          rm += 1\n",
        "          k -=1\n",
        "        k += 1\n",
        "    else:\n",
        "      ad = 0\n",
        "      while ad <= -diff:\n",
        "        if(y_train[k] == sorted_counter[i][0]):\n",
        "          X_train.append(X_train[k])\n",
        "          y_train.append(y_train[k])\n",
        "          count_train.append(count_train[k])\n",
        "          ad += 1\n",
        "        k += 1\n",
        "        \n",
        "  return X_train, count_train, y_train"
      ],
      "execution_count": 0,
      "outputs": []
    },
    {
      "cell_type": "code",
      "metadata": {
        "id": "89h_sv8ENoZ3",
        "colab_type": "code",
        "colab": {}
      },
      "source": [
        "X_train_a, count_train_a, y_train_a = same_size_data(X_train_a, count_train_a, y_train_a, 0.3)\n",
        "X_train_a, count_train_a, y_train_a = shuffle(X_train_a, count_train_a, y_train_a)\n",
        "X_train_b, count_train_b, y_train_b = same_size_data(X_train_b, count_train_b, y_train_b, 0.2)\n",
        "X_train_b, count_train_b, y_train_b = shuffle(X_train_b, count_train_b, y_train_b)\n",
        "X_train_c, count_train_c, y_train_c = same_size_data(X_train_c, count_train_c, y_train_c, 0.7)\n",
        "X_train_c, count_train_c, y_train_c = shuffle(X_train_c, count_train_c, y_train_c)"
      ],
      "execution_count": 0,
      "outputs": []
    },
    {
      "cell_type": "code",
      "metadata": {
        "id": "FZNnUhQREp0P",
        "colab_type": "code",
        "outputId": "d4055e93-ead4-48d1-e577-6560a2a91792",
        "colab": {
          "base_uri": "https://localhost:8080/",
          "height": 280
        }
      },
      "source": [
        "plt.figure(figsize = (12,4))\n",
        "plt.subplot(131)\n",
        "cat_a = Counter(y_train_a)\n",
        "plt.bar(list(cat_a.keys()), list(cat_a.values()))\n",
        "plt.xticks(range(len(cat_a)), label_to_number_a)\n",
        "plt.title(\"Distribition of labels in subtask A\");\n",
        "plt.subplot(132)\n",
        "cat_b = Counter(y_train_b)\n",
        "plt.bar(list(cat_b.keys()), list(cat_b.values()))\n",
        "plt.xticks(range(len(cat_b)), label_to_number_b)\n",
        "plt.title(\"Distribition of labels in subtask B\");\n",
        "plt.subplot(133)\n",
        "cat_c = Counter(y_train_c)\n",
        "plt.bar(list(cat_c.keys()), list(cat_c.values()))\n",
        "plt.xticks(range(len(cat_c)), label_to_number_c)\n",
        "plt.title(\"Distribition of labels in subtask C\");"
      ],
      "execution_count": 0,
      "outputs": [
        {
          "output_type": "display_data",
          "data": {
            "image/png": "[encoded data removed]",
            "text/plain": [
              "<Figure size 864x288 with 3 Axes>"
            ]
          },
          "metadata": {
            "tags": []
          }
        }
      ]
    },
    {
      "cell_type": "markdown",
      "metadata": {
        "id": "S_tG8t1XEpzl",
        "colab_type": "text"
      },
      "source": [
        "# Baseline: Bag-of-Words model"
      ]
    },
    {
      "cell_type": "markdown",
      "metadata": {
        "id": "4jpALithSbb4",
        "colab_type": "text"
      },
      "source": [
        "In order to determine the ration of undersampling and oversampling, we use a Random Forest Classier in different ratio and perform a cross-validation."
      ]
    },
    {
      "cell_type": "code",
      "metadata": {
        "id": "-ek4JjdBP3U9",
        "colab_type": "code",
        "colab": {}
      },
      "source": [
        "def bag_of_words_class_tune_sampling(tweets_train, counts_train, label_train, tweets_test, count_test, label_test):\n",
        "  tweets_train = tokenizer.sequences_to_texts(tweets_train)\n",
        "  tweets_test = tokenizer.sequences_to_texts(tweets_test)\n",
        "  v = CountVectorizer()\n",
        "  transformed_train = v.fit_transform(tweets_train)\n",
        "  transformed_test = v.transform(tweets_test)\n",
        "  rf = RandomForestClassifier()\n",
        "  rf.fit(scipy.sparse.hstack([transformed_train,  scipy.sparse.coo_matrix(np.array(counts_train)[:, None])]), label_train)\n",
        "  \n",
        "  sum = 0\n",
        "  for key, elem in classification_report(rf.predict(scipy.sparse.hstack([transformed_test,  scipy.sparse.coo_matrix(np.array(count_test)[:, None])])), label_test, output_dict = True).items():\n",
        "    sum += classification_report(rf.predict(scipy.sparse.hstack([transformed_test,  scipy.sparse.coo_matrix(np.array(count_test)[:, None])])), label_test, output_dict = True)[key][\"f1-score\"]\n",
        "    \n",
        "  return sum"
      ],
      "execution_count": 0,
      "outputs": []
    },
    {
      "cell_type": "code",
      "metadata": {
        "id": "T9bdrHuCPyIX",
        "colab_type": "code",
        "outputId": "c6f96498-6bf4-446d-9b1a-c495fd390368",
        "colab": {
          "base_uri": "https://localhost:8080/",
          "height": 221
        }
      },
      "source": [
        "a_score = 0\n",
        "b_score = 0\n",
        "c_score = 0\n",
        "\n",
        "best_a_ratio = 0.1\n",
        "best_b_ratio = 0.1\n",
        "best_c_ratio = 0.1\n",
        "\n",
        "for i in range(9):\n",
        "  \n",
        "  print(\"iter {}\".format(i))\n",
        "  temp_ratio = 0.1+i*0.1\n",
        "  \n",
        "  X_train_a, X_test_a, count_train_a, count_test_a, y_train_a, y_test_a = train_test_split(build_seq(X_a), X_a.user_count, binary_labels_a, test_size=0.2)\n",
        "  X_train_b, X_test_b, count_train_b, count_test_b, y_train_b, y_test_b = train_test_split(build_seq(X_b), X_b.user_count, binary_labels_b, test_size=0.2)\n",
        "  X_train_c, X_test_c, count_train_c, count_test_c, y_train_c, y_test_c = train_test_split(build_seq(X_c), X_c.user_count, binary_labels_c, test_size=0.2)\n",
        "  \n",
        "  X_train_a, count_train_a, y_train_a = same_size_data(X_train_a, count_train_a, y_train_a, temp_ratio)\n",
        "  X_train_a, count_train_a, y_train_a = shuffle(X_train_a, count_train_a, y_train_a)\n",
        "  X_train_b, count_train_b, y_train_b = same_size_data(X_train_b, count_train_b, y_train_b, temp_ratio)\n",
        "  X_train_b, count_train_b, y_train_b = shuffle(X_train_b, count_train_b, y_train_b)\n",
        "  X_train_c, count_train_c, y_train_c = same_size_data(X_train_c, count_train_c, y_train_c, temp_ratio)\n",
        "  X_train_c, count_train_c, y_train_c = shuffle(X_train_c, count_train_c, y_train_c)\n",
        "  \n",
        "  temp_a = bag_of_words_class_tune_sampling(X_train_a, count_train_a ,y_train_a, X_test_a, count_test_a ,y_test_a)\n",
        "  temp_b = bag_of_words_class_tune_sampling(X_train_b,count_train_b ,y_train_b, X_test_b,count_test_b ,y_test_b)\n",
        "  temp_c = bag_of_words_class_tune_sampling(X_train_c,count_train_c ,y_train_c, X_test_c,count_test_c ,y_test_c)\n",
        "  \n",
        "  if(temp_a > a_score):\n",
        "    best_a_ratio = temp_ratio\n",
        "    a_score = temp_a\n",
        "  if(temp_b > b_score):\n",
        "    best_b_ratio = temp_ratio\n",
        "    b_score = temp_b\n",
        "  if(temp_c > c_score):\n",
        "    best_c_ratio = temp_ratio\n",
        "    c_score = temp_c\n",
        "    \n",
        "print(\"best_a_ratio = {}\".format(best_a_ratio))\n",
        "print(\"best_b_ratio = {}\".format(best_b_ratio))\n",
        "print(\"best_c_ratio = {}\".format(best_c_ratio))"
      ],
      "execution_count": 0,
      "outputs": [
        {
          "output_type": "stream",
          "text": [
            "iter 0\n",
            "iter 1\n",
            "iter 2\n",
            "iter 3\n",
            "iter 4\n",
            "iter 5\n",
            "iter 6\n",
            "iter 7\n",
            "iter 8\n",
            "best_a_ratio = 0.30000000000000004\n",
            "best_b_ratio = 0.1\n",
            "best_c_ratio = 0.4\n"
          ],
          "name": "stdout"
        }
      ]
    },
    {
      "cell_type": "code",
      "metadata": {
        "id": "Jz8wXVHHRF1o",
        "colab_type": "code",
        "colab": {}
      },
      "source": [
        "def bag_of_words_test(tweets_train, counts_train, label_train, tweets_test, count_test, label_test):\n",
        "  tweets_train = tokenizer.sequences_to_texts(tweets_train)\n",
        "  tweets_test = tokenizer.sequences_to_texts(tweets_test)\n",
        "  v = CountVectorizer()\n",
        "  transformed_train = v.fit_transform(tweets_train)\n",
        "  transformed_test = v.transform(tweets_test)\n",
        "  rf = RandomForestClassifier()\n",
        "  rf.fit(scipy.sparse.hstack([transformed_train,  scipy.sparse.coo_matrix(np.array(counts_train)[:, None])]), label_train)\n",
        "  print(classification_report(rf.predict(scipy.sparse.hstack([transformed_test,  scipy.sparse.coo_matrix(np.array(count_test)[:, None])])), label_test))"
      ],
      "execution_count": 0,
      "outputs": []
    },
    {
      "cell_type": "code",
      "metadata": {
        "id": "HdWFGtRTEpzn",
        "colab_type": "code",
        "outputId": "02d88bcb-75c2-4beb-b67d-f4a4eb01753c",
        "colab": {
          "base_uri": "https://localhost:8080/",
          "height": 493
        }
      },
      "source": [
        "### Baseline results\n",
        "bag_of_words_test(X_train_a, count_train_a ,y_train_a, X_test_a, count_test_a ,y_test_a)\n",
        "bag_of_words_test(X_train_b,count_train_b ,y_train_b, X_test_b,count_test_b ,y_test_b)\n",
        "bag_of_words_test(X_train_c,count_train_c ,y_train_c, X_test_c,count_test_c ,y_test_c)"
      ],
      "execution_count": 0,
      "outputs": [
        {
          "output_type": "stream",
          "text": [
            "              precision    recall  f1-score   support\n",
            "\n",
            "           0       0.58      0.58      0.58       887\n",
            "           1       0.79      0.79      0.79      1761\n",
            "\n",
            "   micro avg       0.72      0.72      0.72      2648\n",
            "   macro avg       0.68      0.68      0.68      2648\n",
            "weighted avg       0.72      0.72      0.72      2648\n",
            "\n",
            "              precision    recall  f1-score   support\n",
            "\n",
            "           0       0.37      0.30      0.33       114\n",
            "           1       0.90      0.92      0.91       766\n",
            "\n",
            "   micro avg       0.84      0.84      0.84       880\n",
            "   macro avg       0.63      0.61      0.62       880\n",
            "weighted avg       0.83      0.84      0.84       880\n",
            "\n",
            "              precision    recall  f1-score   support\n",
            "\n",
            "           0       0.75      0.76      0.76       487\n",
            "           1       0.13      0.14      0.14        71\n",
            "           2       0.48      0.44      0.46       218\n",
            "\n",
            "   micro avg       0.62      0.62      0.62       776\n",
            "   macro avg       0.45      0.45      0.45       776\n",
            "weighted avg       0.62      0.62      0.62       776\n",
            "\n"
          ],
          "name": "stdout"
        }
      ]
    },
    {
      "cell_type": "markdown",
      "metadata": {
        "id": "dcq6yjP0Ep0c",
        "colab_type": "text"
      },
      "source": [
        "# Train our own embeddings"
      ]
    },
    {
      "cell_type": "code",
      "metadata": {
        "id": "5VHWtgsHA44N",
        "colab_type": "code",
        "colab": {}
      },
      "source": [
        "EMBEDDING_SIZE = 100"
      ],
      "execution_count": 0,
      "outputs": []
    },
    {
      "cell_type": "code",
      "metadata": {
        "id": "rbWhu7IqEp0d",
        "colab_type": "code",
        "colab": {}
      },
      "source": [
        "sequences = tokenizer.texts_to_sequences(data.clean)\n",
        "seq = pad_sequences(sequences)\n",
        "preprocessed = tokenizer.sequences_to_texts(seq))\n",
        "sentences = [t.split() for t in preprocessed]"
      ],
      "execution_count": 0,
      "outputs": []
    },
    {
      "cell_type": "code",
      "metadata": {
        "id": "sk-M0ibUcgd4",
        "colab_type": "code",
        "colab": {}
      },
      "source": [
        "model = FastText(sentences, size=EMBEDDING_SIZE, window=5, min_count=1, workers=4, iter = 40)"
      ],
      "execution_count": 0,
      "outputs": []
    },
    {
      "cell_type": "markdown",
      "metadata": {
        "id": "1TEOurK0Ep0s",
        "colab_type": "text"
      },
      "source": [
        "### Embedding matrix"
      ]
    },
    {
      "cell_type": "code",
      "metadata": {
        "id": "hgZ1yOonEp0v",
        "colab_type": "code",
        "colab": {}
      },
      "source": [
        "# Code if you want to use the GloVe Embedding \n",
        "embeddings_index = {}\n",
        "f = open(os.path.join('glove.6B.100d.txt'))\n",
        "for line in f:\n",
        "    values = line.split()\n",
        "    word = values[0]\n",
        "    coefs = np.asarray(values[1:], dtype='float32')\n",
        "    embeddings_index[word] = coefs\n",
        "f.close()\n",
        "\n",
        "print('Found %s word vectors.' % len(embeddings_index))"
      ],
      "execution_count": 0,
      "outputs": []
    },
    {
      "cell_type": "code",
      "metadata": {
        "id": "GJcHeNNBh_tY",
        "colab_type": "code",
        "outputId": "bd89eb97-a564-434c-df8d-548e08e3b975",
        "colab": {
          "base_uri": "https://localhost:8080/",
          "height": 34
        }
      },
      "source": [
        "vocabulary_size = len(tokenizer.word_index)\n",
        "vocabulary_size"
      ],
      "execution_count": 0,
      "outputs": [
        {
          "output_type": "execute_result",
          "data": {
            "text/plain": [
              "21250"
            ]
          },
          "metadata": {
            "tags": []
          },
          "execution_count": 31
        }
      ]
    },
    {
      "cell_type": "code",
      "metadata": {
        "id": "SWs6h82rEp00",
        "colab_type": "code",
        "colab": {}
      },
      "source": [
        "# Construct the embedding matrix for \n",
        "embedding_matrix = np.zeros((vocabulary_size+1, EMBEDDING_SIZE))\n",
        "for word, i in tokenizer.word_index.items():\n",
        "    try:\n",
        "        embedding_vector = model.wv.word_vec(word) \n",
        "        #embedding_vector = embeddings_index[word] uncomment if you want to use GloVe\n",
        "        if embedding_vector is not None:\n",
        "            embedding_matrix[i] = embedding_vector\n",
        "    except KeyError:\n",
        "        print(word)"
      ],
      "execution_count": 0,
      "outputs": []
    },
    {
      "cell_type": "markdown",
      "metadata": {
        "id": "wn-BFddD4cjG",
        "colab_type": "text"
      },
      "source": [
        "# Convolutional Neural Network"
      ]
    },
    {
      "cell_type": "code",
      "metadata": {
        "id": "z9Gp6GErEp08",
        "colab_type": "code",
        "colab": {}
      },
      "source": [
        "# Define the layers\n",
        "\n",
        "inp = Input(shape = (max_seq,))\n",
        "\n",
        "\n",
        "y = Embedding(vocabulary_size+1, EMBEDDING_SIZE, weights = [embedding_matrix], input_length=max_seq, trainable = True)(inp)\n",
        "y = Dropout(0.5)(y)\n",
        "y = Conv1D(64, 4, activation='relu')(y)\n",
        "y = GlobalMaxPooling1D()(y)\n",
        "y = Dense(10, activation = 'relu')(y)\n",
        "\n",
        "# The output depends on the task so we define one for a binary classification and one for prediction 3 classes\n",
        "ab = Dense(1, activation = 'sigmoid')(y)\n",
        "c = Dense(3, activation = 'sigmoid')(y)\n"
      ],
      "execution_count": 0,
      "outputs": []
    },
    {
      "cell_type": "markdown",
      "metadata": {
        "id": "-Yyxow9jT5Hh",
        "colab_type": "text"
      },
      "source": [
        "Task A"
      ]
    },
    {
      "cell_type": "code",
      "metadata": {
        "id": "M_IUjogBEp1B",
        "colab_type": "code",
        "outputId": "3d6caa53-3fd6-4c70-afb2-f4d1deae8e36",
        "colab": {
          "base_uri": "https://localhost:8080/",
          "height": 374
        }
      },
      "source": [
        "model_conv_a = Model(inputs = inp, outputs = ab)\n",
        "model_conv_a.compile(loss = \"binary_crossentropy\", optimizer='adam', metrics=[\"accuracy\"] )\n",
        "model_conv_a.summary()"
      ],
      "execution_count": 0,
      "outputs": [
        {
          "output_type": "stream",
          "text": [
            "_________________________________________________________________\n",
            "Layer (type)                 Output Shape              Param #   \n",
            "=================================================================\n",
            "input_31 (InputLayer)        (None, 63)                0         \n",
            "_________________________________________________________________\n",
            "embedding_31 (Embedding)     (None, 63, 100)           2125100   \n",
            "_________________________________________________________________\n",
            "dropout_1 (Dropout)          (None, 63, 100)           0         \n",
            "_________________________________________________________________\n",
            "conv1d_31 (Conv1D)           (None, 60, 64)            25664     \n",
            "_________________________________________________________________\n",
            "global_max_pooling1d_31 (Glo (None, 64)                0         \n",
            "_________________________________________________________________\n",
            "dense_78 (Dense)             (None, 10)                650       \n",
            "_________________________________________________________________\n",
            "dense_79 (Dense)             (None, 1)                 11        \n",
            "=================================================================\n",
            "Total params: 2,151,425\n",
            "Trainable params: 2,151,425\n",
            "Non-trainable params: 0\n",
            "_________________________________________________________________\n"
          ],
          "name": "stdout"
        }
      ]
    },
    {
      "cell_type": "code",
      "metadata": {
        "id": "Kaestft8Ep1F",
        "colab_type": "code",
        "outputId": "601f9d8e-9b04-4791-b333-12ed1b887649",
        "colab": {
          "base_uri": "https://localhost:8080/",
          "height": 391
        }
      },
      "source": [
        "model_conv_a.fit(np.array(X_train_a), y_train_a, validation_data=(X_test_a,y_test_a), epochs = 10)"
      ],
      "execution_count": 0,
      "outputs": [
        {
          "output_type": "stream",
          "text": [
            "Train on 7791 samples, validate on 2648 samples\n",
            "Epoch 1/10\n",
            "7791/7791 [==============================] - 33s 4ms/step - loss: 1.0340 - acc: 0.5197 - val_loss: 0.6737 - val_acc: 0.5823\n",
            "Epoch 2/10\n",
            "7791/7791 [==============================] - 11s 1ms/step - loss: 0.7044 - acc: 0.5517 - val_loss: 0.6458 - val_acc: 0.6594\n",
            "Epoch 3/10\n",
            "7791/7791 [==============================] - 11s 1ms/step - loss: 0.6824 - acc: 0.5723 - val_loss: 0.6513 - val_acc: 0.6477\n",
            "Epoch 4/10\n",
            "7791/7791 [==============================] - 12s 1ms/step - loss: 0.6689 - acc: 0.5963 - val_loss: 0.6258 - val_acc: 0.6711\n",
            "Epoch 5/10\n",
            "7791/7791 [==============================] - 12s 1ms/step - loss: 0.6603 - acc: 0.6042 - val_loss: 0.6271 - val_acc: 0.6794\n",
            "Epoch 6/10\n",
            "7791/7791 [==============================] - 11s 1ms/step - loss: 0.6480 - acc: 0.6196 - val_loss: 0.6072 - val_acc: 0.6945\n",
            "Epoch 7/10\n",
            "7791/7791 [==============================] - 11s 1ms/step - loss: 0.6398 - acc: 0.6307 - val_loss: 0.6010 - val_acc: 0.7013\n",
            "Epoch 8/10\n",
            "7791/7791 [==============================] - 11s 1ms/step - loss: 0.6281 - acc: 0.6461 - val_loss: 0.6359 - val_acc: 0.6344\n",
            "Epoch 9/10\n",
            "7791/7791 [==============================] - 11s 1ms/step - loss: 0.6142 - acc: 0.6597 - val_loss: 0.5998 - val_acc: 0.6726\n",
            "Epoch 10/10\n",
            "7791/7791 [==============================] - 12s 1ms/step - loss: 0.6043 - acc: 0.6697 - val_loss: 0.5834 - val_acc: 0.7092\n"
          ],
          "name": "stdout"
        },
        {
          "output_type": "execute_result",
          "data": {
            "text/plain": [
              "<keras.callbacks.History at 0x7f0f0881d940>"
            ]
          },
          "metadata": {
            "tags": []
          },
          "execution_count": 365
        }
      ]
    },
    {
      "cell_type": "code",
      "metadata": {
        "scrolled": true,
        "id": "I7NfP1CMEp1L",
        "colab_type": "code",
        "outputId": "0e69978b-1d7f-4dfd-9226-32eded446573",
        "colab": {
          "base_uri": "https://localhost:8080/",
          "height": 170
        }
      },
      "source": [
        "y_pred_a = model_conv_a.predict(X_test_a)\n",
        "y_pred_a = y_pred_a>0.5\n",
        "print(classification_report(y_test_a, y_pred_a, target_names= [\"OFF\",'NOT']))"
      ],
      "execution_count": 0,
      "outputs": [
        {
          "output_type": "stream",
          "text": [
            "              precision    recall  f1-score   support\n",
            "\n",
            "         OFF       0.56      0.50      0.53       855\n",
            "         NOT       0.77      0.81      0.79      1793\n",
            "\n",
            "   micro avg       0.71      0.71      0.71      2648\n",
            "   macro avg       0.66      0.65      0.66      2648\n",
            "weighted avg       0.70      0.71      0.71      2648\n",
            "\n"
          ],
          "name": "stdout"
        }
      ]
    },
    {
      "cell_type": "markdown",
      "metadata": {
        "id": "xSAjStlUTyM-",
        "colab_type": "text"
      },
      "source": [
        "Task B"
      ]
    },
    {
      "cell_type": "code",
      "metadata": {
        "id": "t5ZevFQVEp1P",
        "colab_type": "code",
        "outputId": "091e4168-a781-48d0-aeb2-fa688f2ea400",
        "colab": {
          "base_uri": "https://localhost:8080/",
          "height": 391
        }
      },
      "source": [
        "model_conv_b = Model(inputs = inp, outputs = ab)\n",
        "model_conv_b.compile(loss='binary_crossentropy', optimizer='adam', metrics=[\"accuracy\"] )\n",
        "model_conv_b.fit(np.array(X_train_b), y_train_b, validation_data=(X_test_b,y_test_b), epochs = 10)"
      ],
      "execution_count": 0,
      "outputs": [
        {
          "output_type": "stream",
          "text": [
            "Train on 1363 samples, validate on 880 samples\n",
            "Epoch 1/10\n",
            "1363/1363 [==============================] - 25s 18ms/step - loss: 0.7194 - acc: 0.5495 - val_loss: 0.6787 - val_acc: 0.6193\n",
            "Epoch 2/10\n",
            "1363/1363 [==============================] - 3s 2ms/step - loss: 0.6581 - acc: 0.6090 - val_loss: 0.6252 - val_acc: 0.7250\n",
            "Epoch 3/10\n",
            "1363/1363 [==============================] - 3s 2ms/step - loss: 0.6351 - acc: 0.6310 - val_loss: 0.5677 - val_acc: 0.7716\n",
            "Epoch 4/10\n",
            "1363/1363 [==============================] - 3s 2ms/step - loss: 0.5952 - acc: 0.6713 - val_loss: 0.6426 - val_acc: 0.7273\n",
            "Epoch 5/10\n",
            "1363/1363 [==============================] - 3s 2ms/step - loss: 0.5980 - acc: 0.6787 - val_loss: 0.5772 - val_acc: 0.7557\n",
            "Epoch 6/10\n",
            "1363/1363 [==============================] - 3s 2ms/step - loss: 0.5781 - acc: 0.6860 - val_loss: 0.6829 - val_acc: 0.6739\n",
            "Epoch 7/10\n",
            "1363/1363 [==============================] - 3s 2ms/step - loss: 0.5607 - acc: 0.6977 - val_loss: 0.7163 - val_acc: 0.6398\n",
            "Epoch 8/10\n",
            "1363/1363 [==============================] - 3s 2ms/step - loss: 0.5456 - acc: 0.7051 - val_loss: 0.6729 - val_acc: 0.6557\n",
            "Epoch 9/10\n",
            "1363/1363 [==============================] - 3s 2ms/step - loss: 0.5179 - acc: 0.7285 - val_loss: 0.7541 - val_acc: 0.6125\n",
            "Epoch 10/10\n",
            "1363/1363 [==============================] - 3s 2ms/step - loss: 0.4879 - acc: 0.7557 - val_loss: 0.6821 - val_acc: 0.6750\n"
          ],
          "name": "stdout"
        },
        {
          "output_type": "execute_result",
          "data": {
            "text/plain": [
              "<keras.callbacks.History at 0x7f0f087218d0>"
            ]
          },
          "metadata": {
            "tags": []
          },
          "execution_count": 367
        }
      ]
    },
    {
      "cell_type": "code",
      "metadata": {
        "id": "6UNQHkxvEp1X",
        "colab_type": "code",
        "outputId": "7378a5a2-dbed-43d9-d4bf-07a368ab887a",
        "colab": {
          "base_uri": "https://localhost:8080/",
          "height": 170
        }
      },
      "source": [
        "y_pred_b = model_conv_b.predict(X_test_b)\n",
        "y_pred_b = y_pred_b>0.5\n",
        "print(classification_report(y_test_b, y_pred_b, target_names= [\"UNT\",'TIN']))"
      ],
      "execution_count": 0,
      "outputs": [
        {
          "output_type": "stream",
          "text": [
            "              precision    recall  f1-score   support\n",
            "\n",
            "         UNT       0.20      0.50      0.28       112\n",
            "         TIN       0.91      0.70      0.79       768\n",
            "\n",
            "   micro avg       0.68      0.68      0.68       880\n",
            "   macro avg       0.55      0.60      0.54       880\n",
            "weighted avg       0.82      0.68      0.73       880\n",
            "\n"
          ],
          "name": "stdout"
        }
      ]
    },
    {
      "cell_type": "code",
      "metadata": {
        "id": "LK2tH93PL_J5",
        "colab_type": "code",
        "outputId": "fdeee10a-a2c4-46c7-f7b0-b1d851c6f79f",
        "colab": {
          "base_uri": "https://localhost:8080/",
          "height": 391
        }
      },
      "source": [
        "model_conv_c = Model(inputs = inp, outputs = c)\n",
        "model_conv_c.compile(loss='binary_crossentropy', optimizer='adam', metrics=[\"accuracy\"] )\n",
        "dummy_labels_train = keras.utils.np_utils.to_categorical(y_train_c)\n",
        "dummy_labels_test = keras.utils.np_utils.to_categorical(y_test_c)\n",
        "model_conv_c.fit(np.array(X_train_c), dummy_labels_train, validation_data=(X_test_c,dummy_labels_test), epochs = 10, batch_size = 20)"
      ],
      "execution_count": 0,
      "outputs": [
        {
          "output_type": "stream",
          "text": [
            "Train on 1438 samples, validate on 776 samples\n",
            "Epoch 1/10\n",
            "1438/1438 [==============================] - 25s 18ms/step - loss: 1.0597 - acc: 0.5964 - val_loss: 0.6898 - val_acc: 0.6654\n",
            "Epoch 2/10\n",
            "1438/1438 [==============================] - 3s 2ms/step - loss: 0.6821 - acc: 0.6637 - val_loss: 0.6613 - val_acc: 0.6787\n",
            "Epoch 3/10\n",
            "1438/1438 [==============================] - 3s 2ms/step - loss: 0.6699 - acc: 0.6697 - val_loss: 0.6605 - val_acc: 0.6735\n",
            "Epoch 4/10\n",
            "1438/1438 [==============================] - 3s 2ms/step - loss: 0.6585 - acc: 0.6704 - val_loss: 0.6505 - val_acc: 0.6761\n",
            "Epoch 5/10\n",
            "1438/1438 [==============================] - 3s 2ms/step - loss: 0.6495 - acc: 0.6741 - val_loss: 0.6483 - val_acc: 0.6757\n",
            "Epoch 6/10\n",
            "1438/1438 [==============================] - 3s 2ms/step - loss: 0.6468 - acc: 0.6750 - val_loss: 0.6528 - val_acc: 0.6701\n",
            "Epoch 7/10\n",
            "1438/1438 [==============================] - 3s 2ms/step - loss: 0.6380 - acc: 0.6759 - val_loss: 0.6209 - val_acc: 0.6894\n",
            "Epoch 8/10\n",
            "1438/1438 [==============================] - 3s 2ms/step - loss: 0.6283 - acc: 0.6810 - val_loss: 0.6282 - val_acc: 0.6821\n",
            "Epoch 9/10\n",
            "1438/1438 [==============================] - 3s 2ms/step - loss: 0.6256 - acc: 0.6796 - val_loss: 0.6130 - val_acc: 0.6946\n",
            "Epoch 10/10\n",
            "1438/1438 [==============================] - 3s 2ms/step - loss: 0.6175 - acc: 0.6834 - val_loss: 0.5977 - val_acc: 0.7045\n"
          ],
          "name": "stdout"
        },
        {
          "output_type": "execute_result",
          "data": {
            "text/plain": [
              "<keras.callbacks.History at 0x7f0f08230898>"
            ]
          },
          "metadata": {
            "tags": []
          },
          "execution_count": 369
        }
      ]
    },
    {
      "cell_type": "code",
      "metadata": {
        "id": "-ZCksVP5MCO7",
        "colab_type": "code",
        "outputId": "e9e1e1f4-f0fb-4aa7-f54e-b23e94782ae1",
        "colab": {
          "base_uri": "https://localhost:8080/",
          "height": 187
        }
      },
      "source": [
        "y_pred_c = model_conv_c.predict(X_test_c)\n",
        "y_pred_c = np.argmax(y_pred_c,axis=1)\n",
        "print(classification_report(y_test_c, y_pred_c, target_names= [\"IND\",'OTH', \"GRP\"]))"
      ],
      "execution_count": 0,
      "outputs": [
        {
          "output_type": "stream",
          "text": [
            "              precision    recall  f1-score   support\n",
            "\n",
            "         IND       0.89      0.28      0.42       499\n",
            "         OTH       0.19      0.12      0.15        74\n",
            "         GRP       0.31      0.89      0.46       203\n",
            "\n",
            "   micro avg       0.42      0.42      0.42       776\n",
            "   macro avg       0.47      0.43      0.34       776\n",
            "weighted avg       0.67      0.42      0.41       776\n",
            "\n"
          ],
          "name": "stdout"
        }
      ]
    },
    {
      "cell_type": "markdown",
      "metadata": {
        "id": "usIYn1mo4wSH",
        "colab_type": "text"
      },
      "source": [
        "# Recurrent Neural Network - Bidirectional LSTM + CNN"
      ]
    },
    {
      "cell_type": "code",
      "metadata": {
        "id": "TSZ3aymfmKsE",
        "colab_type": "code",
        "colab": {}
      },
      "source": [
        "inp = Input(shape = (max_seq,))\n",
        "\n",
        "x = Embedding(vocabulary_size+1, EMBEDDING_SIZE, weights = [embedding_matrix], trainable = True)(inp)\n",
        "x = SpatialDropout1D(0.5)(x)\n",
        "x = Bidirectional(LSTM(128, return_sequences = True))(x)\n",
        "x = Conv1D(64, kernel_size = 2, padding = \"valid\", kernel_initializer = \"he_uniform\")(x)\n",
        "avg_pool = GlobalAveragePooling1D()(x)\n",
        "max_pool = GlobalMaxPooling1D()(x)\n",
        "x = concatenate([avg_pool, max_pool])\n",
        "x = Dense(10, activation = \"relu\")(x)\n",
        "\n",
        "a = Dense(1, activation = \"sigmoid\")(x)\n",
        "c = Dense(3, activation = \"softmax\")(x)\n",
        "\n",
        "model_a = Model(inputs = inp, outputs = a)\n",
        "model_b = Model(inputs = inp, outputs = a)\n",
        "model_c = Model(inputs = inp, outputs = c)"
      ],
      "execution_count": 0,
      "outputs": []
    },
    {
      "cell_type": "markdown",
      "metadata": {
        "id": "00wNnenJUNCr",
        "colab_type": "text"
      },
      "source": [
        "Task A"
      ]
    },
    {
      "cell_type": "code",
      "metadata": {
        "colab_type": "code",
        "outputId": "5e05084b-edba-494b-efad-2d6bd824773c",
        "id": "AC1T3644hmnt",
        "colab": {
          "base_uri": "https://localhost:8080/",
          "height": 493
        }
      },
      "source": [
        "model_a.compile( loss = \"binary_crossentropy\", optimizer = Adam(lr=0.001), metrics = [\"accuracy\"])\n",
        "model_a.summary()"
      ],
      "execution_count": 0,
      "outputs": [
        {
          "output_type": "stream",
          "text": [
            "__________________________________________________________________________________________________\n",
            "Layer (type)                    Output Shape         Param #     Connected to                     \n",
            "==================================================================================================\n",
            "input_30 (InputLayer)           (None, 63)           0                                            \n",
            "__________________________________________________________________________________________________\n",
            "embedding_30 (Embedding)        (None, 63, 100)      2125100     input_30[0][0]                   \n",
            "__________________________________________________________________________________________________\n",
            "spatial_dropout1d_30 (SpatialDr (None, 63, 100)      0           embedding_30[0][0]               \n",
            "__________________________________________________________________________________________________\n",
            "bidirectional_30 (Bidirectional (None, 63, 256)      234496      spatial_dropout1d_30[0][0]       \n",
            "__________________________________________________________________________________________________\n",
            "conv1d_30 (Conv1D)              (None, 62, 64)       32832       bidirectional_30[0][0]           \n",
            "__________________________________________________________________________________________________\n",
            "global_average_pooling1d_30 (Gl (None, 64)           0           conv1d_30[0][0]                  \n",
            "__________________________________________________________________________________________________\n",
            "global_max_pooling1d_30 (Global (None, 64)           0           conv1d_30[0][0]                  \n",
            "__________________________________________________________________________________________________\n",
            "concatenate_30 (Concatenate)    (None, 128)          0           global_average_pooling1d_30[0][0]\n",
            "                                                                 global_max_pooling1d_30[0][0]    \n",
            "__________________________________________________________________________________________________\n",
            "dense_75 (Dense)                (None, 10)           1290        concatenate_30[0][0]             \n",
            "__________________________________________________________________________________________________\n",
            "dense_76 (Dense)                (None, 1)            11          dense_75[0][0]                   \n",
            "==================================================================================================\n",
            "Total params: 2,393,729\n",
            "Trainable params: 2,393,729\n",
            "Non-trainable params: 0\n",
            "__________________________________________________________________________________________________\n"
          ],
          "name": "stdout"
        }
      ]
    },
    {
      "cell_type": "code",
      "metadata": {
        "id": "Y6IWacJ4oAnF",
        "colab_type": "code",
        "colab": {}
      },
      "source": [
        "model_a.fit(np.array(X_train_a), y_train_a, validation_data=(X_test_a,y_test_a), epochs = 7, class_weight=class_weights)"
      ],
      "execution_count": 0,
      "outputs": []
    },
    {
      "cell_type": "code",
      "metadata": {
        "id": "OdLvjX06FtRa",
        "colab_type": "code",
        "outputId": "d40f1586-5475-4319-986c-6d83228f4c7d",
        "colab": {
          "base_uri": "https://localhost:8080/",
          "height": 170
        }
      },
      "source": [
        "y_pred_a = model_a.predict(X_test_a)\n",
        "y_pred_a = y_pred_a>0.5\n",
        "print(classification_report(y_test_a, y_pred_a, target_names= [\"OFF\",'NOT']))"
      ],
      "execution_count": 0,
      "outputs": [
        {
          "output_type": "stream",
          "text": [
            "              precision    recall  f1-score   support\n",
            "\n",
            "         OFF       0.63      0.67      0.65       880\n",
            "         NOT       0.84      0.81      0.82      1768\n",
            "\n",
            "   micro avg       0.77      0.77      0.77      2648\n",
            "   macro avg       0.73      0.74      0.74      2648\n",
            "weighted avg       0.77      0.77      0.77      2648\n",
            "\n"
          ],
          "name": "stdout"
        }
      ]
    },
    {
      "cell_type": "markdown",
      "metadata": {
        "id": "Fn1pmtRA47dz",
        "colab_type": "text"
      },
      "source": [
        "Submission to codalab"
      ]
    },
    {
      "cell_type": "code",
      "metadata": {
        "id": "gLyu9K_f3ZFc",
        "colab_type": "code",
        "colab": {}
      },
      "source": [
        "test_data_a[\"clean data\"] = test_data_a.tweet.apply(lambda x: clean_data(x)[0])\n",
        "sequences = tokenizer.texts_to_sequences(test_data_a[\"clean data\"])\n",
        "seq_test_a = pad_sequences(sequences, maxlen = max_seq)"
      ],
      "execution_count": 0,
      "outputs": []
    },
    {
      "cell_type": "code",
      "metadata": {
        "id": "eG1RLnf74AC8",
        "colab_type": "code",
        "colab": {}
      },
      "source": [
        "predictions = model_a.predict(seq_test_a)\n",
        "predictions = predictions > 0.5\n",
        "predictions = [number_to_label_a[int(v[0])] for v in predictions]\n",
        "test_data_a[\"predictions\"] = predictions\n",
        "submit= test_data_a[[\"id\", \"predictions\"]]\n",
        "submit.to_csv(\"submission_a.csv\", index = False, header = False)"
      ],
      "execution_count": 0,
      "outputs": []
    },
    {
      "cell_type": "markdown",
      "metadata": {
        "id": "54l4j-r85CFA",
        "colab_type": "text"
      },
      "source": [
        "Transfer Learning for task B"
      ]
    },
    {
      "cell_type": "code",
      "metadata": {
        "id": "iXcuuxLAojiZ",
        "colab_type": "code",
        "outputId": "8d7d97f2-f499-466d-8377-60038aa1ad69",
        "colab": {
          "base_uri": "https://localhost:8080/",
          "height": 85
        }
      },
      "source": [
        "model_b.compile(loss = \"binary_crossentropy\", optimizer = \"adam\", metrics = [\"accuracy\"])\n",
        "model_b.fit(np.array(X_train_b), y_train_b, validation_data=(X_test_b,y_test_b), epochs = 3)"
      ],
      "execution_count": 0,
      "outputs": [
        {
          "output_type": "stream",
          "text": [
            "Train on 5115 samples, validate on 880 samples\n",
            "Epoch 1/1\n",
            "5115/5115 [==============================] - 63s 12ms/step - loss: 0.2843 - acc: 0.8831 - val_loss: 0.5596 - val_acc: 0.7750\n"
          ],
          "name": "stdout"
        },
        {
          "output_type": "execute_result",
          "data": {
            "text/plain": [
              "<keras.callbacks.History at 0x7f0f1ded8080>"
            ]
          },
          "metadata": {
            "tags": []
          },
          "execution_count": 158
        }
      ]
    },
    {
      "cell_type": "code",
      "metadata": {
        "id": "vh0ShMX6zM-D",
        "colab_type": "code",
        "outputId": "e6e68c7e-4a57-42c5-e32c-862c4e870734",
        "colab": {
          "base_uri": "https://localhost:8080/",
          "height": 170
        }
      },
      "source": [
        "y_pred_b = model_b.predict(X_test_b)\n",
        "y_pred_b = y_pred_b > 0.5\n",
        "print(classification_report(y_test_b, y_pred_b, target_names= [\"UNT\",'TIN']))"
      ],
      "execution_count": 0,
      "outputs": [
        {
          "output_type": "stream",
          "text": [
            "              precision    recall  f1-score   support\n",
            "\n",
            "         UNT       0.21      0.48      0.30        93\n",
            "         TIN       0.93      0.79      0.85       787\n",
            "\n",
            "   micro avg       0.76      0.76      0.76       880\n",
            "   macro avg       0.57      0.64      0.57       880\n",
            "weighted avg       0.85      0.76      0.79       880\n",
            "\n"
          ],
          "name": "stdout"
        }
      ]
    },
    {
      "cell_type": "code",
      "metadata": {
        "id": "4z_PdIrE6V7l",
        "colab_type": "code",
        "colab": {}
      },
      "source": [
        "y_pred_b = model_b.predict(X_test_b)\n",
        "y_pred_b = y_pred_b > 0.5\n",
        "print(classification_report(y_test_b, y_pred_b, target_names= [\"UNT\",'TIN']))"
      ],
      "execution_count": 0,
      "outputs": []
    },
    {
      "cell_type": "markdown",
      "metadata": {
        "id": "tKctmIuV5WeR",
        "colab_type": "text"
      },
      "source": [
        "Submission to codalab"
      ]
    },
    {
      "cell_type": "code",
      "metadata": {
        "id": "RdFCis_1aMSS",
        "colab_type": "code",
        "colab": {}
      },
      "source": [
        "test_data_b[\"clean data\"] = test_data_b.tweet.apply(lambda x: clean_data(x)[0])\n",
        "sequences = tokenizer.texts_to_sequences(test_data_b[\"clean data\"])\n",
        "seq_test_b = pad_sequences(sequences, maxlen = max_seq)"
      ],
      "execution_count": 0,
      "outputs": []
    },
    {
      "cell_type": "code",
      "metadata": {
        "id": "o82LjcBb68-e",
        "colab_type": "code",
        "colab": {}
      },
      "source": [
        "predictions = model_b.predict(seq_test_b)\n",
        "predictions = predictions > 0.5\n",
        "predictions = [number_to_label_b[int(v[0])] for v in predictions]\n",
        "test_data_b[\"predictions\"] = predictions\n",
        "submit= test_data_b[[\"id\", \"predictions\"]]\n",
        "submit.to_csv(\"submission_b.csv\", index = False, header = False)"
      ],
      "execution_count": 0,
      "outputs": []
    },
    {
      "cell_type": "markdown",
      "metadata": {
        "id": "e5neBwSP5RXL",
        "colab_type": "text"
      },
      "source": [
        "Transfer Learning for task C"
      ]
    },
    {
      "cell_type": "code",
      "metadata": {
        "id": "w-8-AeknoyvR",
        "colab_type": "code",
        "outputId": "acc7c6e8-5898-4594-d95d-e58ff22345a5",
        "colab": {
          "base_uri": "https://localhost:8080/",
          "height": 119
        }
      },
      "source": [
        "model_c.compile(loss = \"categorical_crossentropy\", optimizer = \"adam\", metrics = [\"accuracy\"])\n",
        "dummy_labels_train = keras.utils.np_utils.to_categorical(y_train_c)\n",
        "dummy_labels_test = keras.utils.np_utils.to_categorical(y_test_c)\n",
        "model_c.fit(np.array(X_train_c), dummy_labels_train, validation_data=(X_test_c,dummy_labels_test), epochs = 2)"
      ],
      "execution_count": 0,
      "outputs": [
        {
          "output_type": "stream",
          "text": [
            "Train on 2389 samples, validate on 776 samples\n",
            "Epoch 1/2\n",
            "2389/2389 [==============================] - 40s 17ms/step - loss: 0.7949 - acc: 0.6254 - val_loss: 0.9876 - val_acc: 0.6521\n",
            "Epoch 2/2\n",
            "2389/2389 [==============================] - 22s 9ms/step - loss: 0.7508 - acc: 0.6563 - val_loss: 0.9852 - val_acc: 0.6508\n"
          ],
          "name": "stdout"
        },
        {
          "output_type": "execute_result",
          "data": {
            "text/plain": [
              "<keras.callbacks.History at 0x7f0f18d7fe48>"
            ]
          },
          "metadata": {
            "tags": []
          },
          "execution_count": 162
        }
      ]
    },
    {
      "cell_type": "code",
      "metadata": {
        "id": "EmIFEqoGpSSI",
        "colab_type": "code",
        "outputId": "0b8a316a-998a-4d1e-cfb9-f376ae2c73e3",
        "colab": {
          "base_uri": "https://localhost:8080/",
          "height": 187
        }
      },
      "source": [
        "y_pred_c = model_c.predict(X_test_c)\n",
        "y_pred_c = np.argmax(y_pred_c,axis=1)\n",
        "print(classification_report(y_test_c, y_pred_c, target_names= [\"IND\",'OTH', \"GRP\"]))"
      ],
      "execution_count": 0,
      "outputs": [
        {
          "output_type": "stream",
          "text": [
            "              precision    recall  f1-score   support\n",
            "\n",
            "         IND       0.84      0.72      0.78       497\n",
            "         OTH       0.20      0.32      0.24        76\n",
            "         GRP       0.54      0.61      0.57       203\n",
            "\n",
            "   micro avg       0.65      0.65      0.65       776\n",
            "   macro avg       0.53      0.55      0.53       776\n",
            "weighted avg       0.70      0.65      0.67       776\n",
            "\n"
          ],
          "name": "stdout"
        }
      ]
    },
    {
      "cell_type": "markdown",
      "metadata": {
        "id": "dBvkhBwOUYOd",
        "colab_type": "text"
      },
      "source": [
        "Predict on test data"
      ]
    },
    {
      "cell_type": "code",
      "metadata": {
        "id": "cjkQCdZu77Xg",
        "colab_type": "code",
        "colab": {}
      },
      "source": [
        "test_data_c[\"clean data\"] = test_data_c.tweet.apply(lambda x: clean_data(x)[0])\n",
        "sequences = tokenizer.texts_to_sequences(test_data_c[\"clean data\"])\n",
        "seq_test_c = pad_sequences(sequences, maxlen = max_seq)"
      ],
      "execution_count": 0,
      "outputs": []
    },
    {
      "cell_type": "code",
      "metadata": {
        "id": "Tv2C5l0T8z44",
        "colab_type": "code",
        "colab": {}
      },
      "source": [
        "predictions = model_c.predict(seq_test_c)\n",
        "predictions = np.argmax(predictions,axis=1)\n",
        "predictions = [number_to_label_c[v] for v in predictions]\n",
        "test_data_c[\"predictions\"] = predictions\n",
        "submit= test_data_c[[\"id\", \"predictions\"]]\n",
        "submit.to_csv(\"submission_c.csv\", index = False, header = False)"
      ],
      "execution_count": 0,
      "outputs": []
    },
    {
      "cell_type": "markdown",
      "metadata": {
        "id": "EMcyazWKQQHb",
        "colab_type": "text"
      },
      "source": [
        "Hyper-parameter tuning: Bayesian optimisation"
      ]
    },
    {
      "cell_type": "code",
      "metadata": {
        "id": "h_-UQUGRj0tb",
        "colab_type": "code",
        "outputId": "6f840805-0c33-4e26-c565-5c3aca615a94",
        "colab": {
          "base_uri": "https://localhost:8080/",
          "height": 723
        }
      },
      "source": [
        "def train_Bayesian_Opt(params):\n",
        "  \n",
        "    ## Architecture\n",
        "    inp = Input(shape = (max_seq,))\n",
        "\n",
        "    x = Embedding(vocabulary_size+1, EMBEDDING_SIZE, weights = [embedding_matrix], trainable = True)(inp)\n",
        "    x = SpatialDropout1D(0.5)(x)\n",
        "    x = Bidirectional(LSTM(128, return_sequences = True))(x)\n",
        "    x = Conv1D(64, kernel_size = 2, padding = \"valid\", kernel_initializer = \"he_uniform\")(x)\n",
        "    avg_pool = GlobalAveragePooling1D()(x)\n",
        "    max_pool = GlobalMaxPooling1D()(x)\n",
        "    x = concatenate([avg_pool, max_pool])\n",
        "    x = Dense(10, activation = \"relu\")(x)\n",
        "\n",
        "    a = Dense(1, activation = \"sigmoid\")(x)\n",
        "    model_a = Model(inputs = inp, outputs = a)\n",
        "    \n",
        "    model_a.compile( loss = \"binary_crossentropy\", optimizer = Adam(lr = params[0,0], decay = params[0,1]), metrics = [\"accuracy\"])\n",
        "    model_a.fit(np.array(X_train_a), y_train_a, validation_data=(X_test_a,y_test_a), epochs = 5)\n",
        "    y_pred_a = model_a.predict(X_test_a)\n",
        "    y_pred_a = y_pred_a>0.5\n",
        "    \n",
        "    \n",
        "    \n",
        "    \n",
        "    ##Check the accuracy after every iteration of Bayesian Optimisation\n",
        "    return f1_score(y_test_a, y_pred_a, average = \"macro\")\n",
        "  \n",
        "\n",
        "### For GPyOpt implementation details see: https://github.com/SheffieldML/GPyOpt/\n",
        "domain = [{'name': 'lr',  'type': 'continuous',  'domain': (0.0005,0.01)}, {'name': 'w_decay',  'type': 'continuous',  'domain': (0, 0.000001)}]\n",
        "opt = GPyOpt.methods.BayesianOptimization(f = train_Bayesian_Opt, domain = domain, acquisition_type ='LCB', acquisition_weight = 0.5)\n",
        "opt.run_optimization(max_iter=10)\n",
        "opt.plot_convergence()\n",
        "\n"
      ],
      "execution_count": 0,
      "outputs": [
        {
          "output_type": "stream",
          "text": [
            "Train on 8481 samples, validate on 2648 samples\n",
            "Epoch 1/1\n",
            "8481/8481 [==============================] - 87s 10ms/step - loss: 0.6716 - acc: 0.5863 - val_loss: 0.5944 - val_acc: 0.6816\n",
            "Train on 8481 samples, validate on 2648 samples\n",
            "Epoch 1/1\n",
            "8481/8481 [==============================] - 90s 11ms/step - loss: 0.6972 - acc: 0.4890 - val_loss: 0.6914 - val_acc: 0.6741\n",
            "Train on 8481 samples, validate on 2648 samples\n",
            "Epoch 1/1\n",
            "8481/8481 [==============================] - 89s 10ms/step - loss: 0.6945 - acc: 0.4985 - val_loss: 0.6841 - val_acc: 0.6741\n",
            "Train on 8481 samples, validate on 2648 samples\n",
            "Epoch 1/1\n",
            "8481/8481 [==============================] - 89s 11ms/step - loss: 0.6719 - acc: 0.5638 - val_loss: 0.6258 - val_acc: 0.7255\n",
            "Train on 8481 samples, validate on 2648 samples\n",
            "Epoch 1/1\n",
            "8481/8481 [==============================] - 86s 10ms/step - loss: 0.6936 - acc: 0.5023 - val_loss: 0.6975 - val_acc: 0.3259\n"
          ],
          "name": "stdout"
        },
        {
          "output_type": "stream",
          "text": [
            "2019-03-01 10:56:11,298 : INFO : initializing Y\n",
            "2019-03-01 10:56:11,299 : INFO : initializing inference method\n",
            "2019-03-01 10:56:11,306 : INFO : adding kernel and likelihood as parameters\n"
          ],
          "name": "stderr"
        },
        {
          "output_type": "stream",
          "text": [
            "The set cost function is ignored! LCB acquisition does not make sense with cost.\n",
            "Train on 8481 samples, validate on 2648 samples\n",
            "Epoch 1/1\n",
            "8481/8481 [==============================] - 91s 11ms/step - loss: 0.6974 - acc: 0.5015 - val_loss: 0.7071 - val_acc: 0.3259\n"
          ],
          "name": "stdout"
        },
        {
          "output_type": "display_data",
          "data": {
            "image/png": "[encoded data removed]",
            "text/plain": [
              "<Figure size 720x360 with 2 Axes>"
            ]
          },
          "metadata": {
            "tags": []
          }
        }
      ]
    }
  ]
}